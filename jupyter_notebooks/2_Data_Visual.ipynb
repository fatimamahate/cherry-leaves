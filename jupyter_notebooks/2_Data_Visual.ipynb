{
 "cells": [
  {
   "cell_type": "markdown",
   "metadata": {
    "id": "0aStgWSO0E0E"
   },
   "source": [
    "# Cherry Leaves - Mildew Detection*"
   ]
  },
  {
   "cell_type": "code",
   "execution_count": null,
   "metadata": {},
   "outputs": [],
   "source": []
  },
  {
   "cell_type": "markdown",
   "metadata": {
    "id": "1eLEkw5O0ECa"
   },
   "source": [
    "## Objectives\n",
    "\n",
    "* find mean and standard deviation\n",
    "\n",
    "## Inputs\n",
    "\n",
    "* Train,validation and test set\n",
    "## Outputs\n",
    "\n",
    "* mean and standard deviation\n",
    "\n",
    "\n"
   ]
  },
  {
   "cell_type": "markdown",
   "metadata": {
    "id": "9uWZXH9LwoQg"
   },
   "source": [
    "---"
   ]
  },
  {
   "cell_type": "markdown",
   "metadata": {
    "id": "cqP-UeN-z3i2"
   },
   "source": [
    "# Setting up the Working directory"
   ]
  },
  {
   "cell_type": "markdown",
   "metadata": {},
   "source": [
    "## Import Libraries needed"
   ]
  },
  {
   "cell_type": "code",
   "execution_count": 4,
   "metadata": {
    "id": "aOGIGS-uz3i2"
   },
   "outputs": [],
   "source": [
    "import os\n",
    "import pandas as pd\n",
    "import numpy as np\n",
    "import matplotlib.pyplot as plt\n",
    "import seaborn as sns\n",
    "import joblib\n",
    "sns.set_style(\"white\")\n",
    "from matplotlib.image import imread"
   ]
  },
  {
   "cell_type": "code",
   "execution_count": 5,
   "metadata": {
    "id": "wZfF_j-Bz3i4",
    "outputId": "66943449-1436-4c3d-85c7-b85f9f78349b"
   },
   "outputs": [
    {
     "data": {
      "text/plain": [
       "'/workspaces/cherry-leaves/jupyter_notebooks'"
      ]
     },
     "execution_count": 5,
     "metadata": {},
     "output_type": "execute_result"
    }
   ],
   "source": [
    "current_dir = os.getcwd()\n",
    "current_dir"
   ]
  },
  {
   "cell_type": "code",
   "execution_count": 6,
   "metadata": {
    "id": "TwHsQRWjz3i9",
    "outputId": "86849db3-cd2f-4cc5-ebb8-2d0caafa1a2c"
   },
   "outputs": [
    {
     "name": "stdout",
     "output_type": "stream",
     "text": [
      "You set a new current directory\n"
     ]
    }
   ],
   "source": [
    "os.chdir('/workspaces/cherry-leaves')\n",
    "print(\"You set a new current directory\")"
   ]
  },
  {
   "cell_type": "markdown",
   "metadata": {
    "id": "M_xPk_Ijz3i-"
   },
   "source": [
    "Confirm the new current directory"
   ]
  },
  {
   "cell_type": "code",
   "execution_count": 7,
   "metadata": {
    "id": "vz3S-_kjz3jA",
    "outputId": "00b79ae4-75d0-4a96-d193-ac9ef9847ea2"
   },
   "outputs": [
    {
     "data": {
      "text/plain": [
       "'/workspaces/cherry-leaves'"
      ]
     },
     "execution_count": 7,
     "metadata": {},
     "output_type": "execute_result"
    }
   ],
   "source": [
    "current_dir = os.getcwd()\n",
    "current_dir"
   ]
  },
  {
   "cell_type": "markdown",
   "metadata": {
    "id": "-mavJ8DibrcQ"
   },
   "source": [
    "## Input directories"
   ]
  },
  {
   "cell_type": "code",
   "execution_count": 8,
   "metadata": {},
   "outputs": [],
   "source": [
    "data_dir = 'input/full_dataset/cherry-leaves'\n",
    "train_data_path = data_dir + '/train'\n",
    "valid_data_path = data_dir + '/validation'\n",
    "test_data_path = data_dir + '/test'"
   ]
  },
  {
   "cell_type": "markdown",
   "metadata": {},
   "source": [
    "## Output directories\n"
   ]
  },
  {
   "cell_type": "code",
   "execution_count": 9,
   "metadata": {},
   "outputs": [
    {
     "name": "stdout",
     "output_type": "stream",
     "text": [
      "Create a new version\n"
     ]
    }
   ],
   "source": [
    "version = 'v1'\n",
    "file_path = f'output/{version}'\n",
    "\n",
    "if 'output' in os.listdir(current_dir) and version in os.listdir(current_dir + '/output'):\n",
    "    print('Create a new version')\n",
    "    pass\n",
    "else:\n",
    "    os.makedirs(name=file_path)"
   ]
  },
  {
   "cell_type": "code",
   "execution_count": 10,
   "metadata": {},
   "outputs": [
    {
     "name": "stdout",
     "output_type": "stream",
     "text": [
      "These are the labels ['healthy', 'powdery_mildew']\n"
     ]
    }
   ],
   "source": [
    "label = os.listdir(train_data_path)\n",
    "print('These are the labels',label)"
   ]
  },
  {
   "cell_type": "markdown",
   "metadata": {
    "id": "ZY3l0-AxO93d"
   },
   "source": [
    "---"
   ]
  },
  {
   "cell_type": "markdown",
   "metadata": {
    "id": "uFQo3ycuO-v6"
   },
   "source": [
    "# Visualisation of image"
   ]
  },
  {
   "cell_type": "markdown",
   "metadata": {},
   "source": [
    "Data Visualisation"
   ]
  },
  {
   "cell_type": "code",
   "execution_count": 11,
   "metadata": {},
   "outputs": [
    {
     "name": "stdout",
     "output_type": "stream",
     "text": [
      "healthy\n",
      "powdery_mildew\n"
     ]
    },
    {
     "ename": "NameError",
     "evalue": "name 'dim1_mean' is not defined",
     "output_type": "error",
     "traceback": [
      "\u001b[0;31m---------------------------------------------------------------------------\u001b[0m",
      "\u001b[0;31mNameError\u001b[0m                                 Traceback (most recent call last)",
      "Cell \u001b[0;32mIn[11], line 17\u001b[0m\n\u001b[1;32m     15\u001b[0m dim1_avg \u001b[38;5;241m=\u001b[39m \u001b[38;5;28mint\u001b[39m(np\u001b[38;5;241m.\u001b[39marray(dim1)\u001b[38;5;241m.\u001b[39mmean())\n\u001b[1;32m     16\u001b[0m dim2_avg \u001b[38;5;241m=\u001b[39m \u001b[38;5;28mint\u001b[39m(np\u001b[38;5;241m.\u001b[39marray(dim2)\u001b[38;5;241m.\u001b[39mmean())\n\u001b[0;32m---> 17\u001b[0m axes\u001b[38;5;241m.\u001b[39maxvline(x\u001b[38;5;241m=\u001b[39m\u001b[43mdim1_mean\u001b[49m,color\u001b[38;5;241m=\u001b[39m\u001b[38;5;124m'\u001b[39m\u001b[38;5;124mr\u001b[39m\u001b[38;5;124m'\u001b[39m, linestyle\u001b[38;5;241m=\u001b[39m\u001b[38;5;124m'\u001b[39m\u001b[38;5;124m--\u001b[39m\u001b[38;5;124m'\u001b[39m)\n\u001b[1;32m     18\u001b[0m axes\u001b[38;5;241m.\u001b[39maxhline(y\u001b[38;5;241m=\u001b[39mdim2_mean,color\u001b[38;5;241m=\u001b[39m\u001b[38;5;124m'\u001b[39m\u001b[38;5;124mr\u001b[39m\u001b[38;5;124m'\u001b[39m, linestyle\u001b[38;5;241m=\u001b[39m\u001b[38;5;124m'\u001b[39m\u001b[38;5;124m--\u001b[39m\u001b[38;5;124m'\u001b[39m)\n\u001b[1;32m     19\u001b[0m plt\u001b[38;5;241m.\u001b[39mshow()\n",
      "\u001b[0;31mNameError\u001b[0m: name 'dim1_mean' is not defined"
     ]
    },
    {
     "data": {
      "image/png": "[encoded data removed]",
      "text/plain": [
       "<Figure size 640x480 with 1 Axes>"
      ]
     },
     "metadata": {},
     "output_type": "display_data"
    }
   ],
   "source": [
    "dim1, dim2 = [], []\n",
    "for label_name in label:\n",
    "    print(label_name)\n",
    "for image_filename in os.listdir(train_data_path + '/' + label_name ):\n",
    "    img = imread(train_data_path + '/' + label_name + '/'+ image_filename)\n",
    "    d1, d2, colors = img.shape\n",
    "    dim1.append(d1) # image height\n",
    "    dim2.append(d2) # image width\n",
    "\n",
    "sns.set_style(\"whitegrid\")\n",
    "fig, axes = plt.subplots()\n",
    "sns.scatterplot(x=dim2, y=dim1, alpha=0.2)\n",
    "axes.set_xlabel(\"Width (pixels)\")\n",
    "axes.set_ylabel(\"Height (pixels)\")\n",
    "dim1_avg = int(np.array(dim1).mean())\n",
    "dim2_avg = int(np.array(dim2).mean())\n",
    "axes.axvline(x=dim1_mean,color='r', linestyle='--')\n",
    "axes.axhline(y=dim2_mean,color='r', linestyle='--')\n",
    "plt.show()\n",
    "print(f\"Width average: {dim2_avg} \\nHeight average: {dim1_avg}\")"
   ]
  },
  {
   "cell_type": "code",
   "execution_count": null,
   "metadata": {},
   "outputs": [],
   "source": [
    "shape=(dim1_avg, dim2_avg, 3)\n",
    "shape"
   ]
  },
  {
   "cell_type": "code",
   "execution_count": null,
   "metadata": {},
   "outputs": [],
   "source": [
    "joblib.dump(value = shape, filename=f\"{file_path}/shape.pk1\")"
   ]
  },
  {
   "cell_type": "code",
   "execution_count": null,
   "metadata": {},
   "outputs": [],
   "source": [
    "from tensorflow.keras.preprocessing import image\n",
    "\n",
    "def img_array(data_dir, alt_size=(50,50), no_images = 20):\n",
    "  x, y = np.array([], dtype='int'), np.array([], dtype='object')\n",
    "  labels = os.listdir(data_dir)\n",
    "\n",
    "  for label in labels:\n",
    "    counter = 0\n",
    "    for image_filename in os.listdir(data_dir + '/' + label):\n",
    "      if counter < no_images:\n",
    "        \n",
    "        img = image.load_img(data_dir + '/' + label + '/' + image_filename, target_size=alt_size)\n",
    "        if image.img_to_array(img).max() > 1: \n",
    "          new_img = image.img_to_array(img) / 255\n",
    "        else: \n",
    "          new_img = image.img_to_array(img)\n",
    "        \n",
    "        x = np.append(x, new_img).reshape(-1, alt_size[0], alt_size[1], new_img.shape[2])\n",
    "        y = np.append(y, label)\n",
    "        counter += 1\n",
    "\n",
    "  return x, y"
   ]
  },
  {
   "cell_type": "code",
   "execution_count": null,
   "metadata": {},
   "outputs": [],
   "source": [
    "x, y = img_array(data_dir = train_data_path,\n",
    "                 alt_size = shape,\n",
    "                 no_images = 30)\n",
    "print(x.shape, y.shape)"
   ]
  },
  {
   "cell_type": "code",
   "execution_count": null,
   "metadata": {},
   "outputs": [],
   "source": [
    "def avg_sd(x, y, figsize=(12,5), save_image=False):\n",
    "\n",
    "  for display_label in np.unique(y):\n",
    "    sns.set_style(\"white\")\n",
    "\n",
    "    y = y.reshape(-1,1,1)\n",
    "    boolean_mask = np.any(y==display_label,axis=1).reshape(-1)\n",
    "    arr = x[boolean_mask]\n",
    "\n",
    "    mean_img = np.mean(arr, axis = 0)\n",
    "    std_img = np.std(arr, axis = 0)\n",
    "    print(f\"==== {display_label} ====\")\n",
    "    print(f\"Shape: {mean_img.shape}\")\n",
    "    fig, axes = plt.subplots(nrows=1, ncols=2, figsize=figsize)\n",
    "    axes[0].set_title(f\"Average Image for {display_label}\")\n",
    "    axes[0].imshow(mean_img, cmap='gray')\n",
    "    axes[1].set_title(f\"The standard deviation image for{display_label}\")\n",
    "    axes[1].imshow(std_img, cmap='gray')\n",
    "\n",
    "    if save_image:\n",
    "      plt.savefig(f\"{file_path}/mean_var_{display_label}.png\", bbox_inches='tight', dpi=150)\n",
    "    else:\n",
    "      plt.tight_layout()\n",
    "      plt.show()\n",
    "      print(\"\\n\")"
   ]
  },
  {
   "cell_type": "code",
   "execution_count": null,
   "metadata": {},
   "outputs": [],
   "source": [
    "avg_sd(x=x, y=y, figsize=(12,5),save_image=True)"
   ]
  },
  {
   "cell_type": "code",
   "execution_count": null,
   "metadata": {},
   "outputs": [],
   "source": [
    "def subset(x,y,label_to_display):\n",
    "  y = y.reshape(-1,1,1)\n",
    "  boolean_mask = np.any(y==label_to_display,axis=1).reshape(-1)\n",
    "  df = x[boolean_mask]\n",
    "  return df\n",
    "\n",
    "\n",
    "def array_diff_img(x, y, label_1, label_2, figsize=(20,5), save_image=False):\n",
    "  sns.set_style(\"white\")\n",
    "\n",
    "  if (label_1 not in np.unique(y)) or (label_2 not in np.unique(y)):\n",
    "    print(f\"Either the label - {label_1} - or the label - {label_2} - are not in {np.unique(y)} \")\n",
    "    return\n",
    "\n",
    "  # calculate mean from all and then plot difference\n",
    "  images_label = subset(x, y, label_1)\n",
    "  label1_avg = np.mean(images_label, axis = 0)\n",
    "\n",
    "\n",
    "  images_label = subset(x, y, label_2)\n",
    "  label2_avg = np.mean(images_label, axis = 0)\n",
    "\n",
    "\n",
    "  diff_mean = label1_avg - label2_avg\n",
    "  fig, axes = plt.subplots(nrows=1, ncols=3, figsize=figsize)\n",
    "  axes[0].imshow(label1_avg, cmap='gray')\n",
    "  axes[0].set_title(f'Average {label_1}')\n",
    "  axes[1].imshow(label2_avg, cmap='gray')\n",
    "  axes[1].set_title(f'Average {label_2}')\n",
    "  axes[2].imshow(diff_mean, cmap='gray')\n",
    "  axes[2].set_title(f'Difference image: Avg {label_1} & {label_2}')\n",
    "  if save_image:\n",
    "    plt.savefig(f\"{file_path}/avg_diff.png\", bbox_inches='tight', dpi=150)\n",
    "  else:\n",
    "    plt.tight_layout()\n",
    "    plt.show()\n"
   ]
  },
  {
   "cell_type": "code",
   "execution_count": null,
   "metadata": {},
   "outputs": [],
   "source": [
    "array_diff_img(x=x, y=y,\n",
    "               label_1='Mildew',\n",
    "               label_2='Healthy',\n",
    "               figsize=(12,10),\n",
    "               save_image=True)"
   ]
  },
  {
   "cell_type": "markdown",
   "metadata": {},
   "source": [
    "## Montage"
   ]
  },
  {
   "cell_type": "code",
   "execution_count": null,
   "metadata": {},
   "outputs": [],
   "source": [
    "import itertools\n",
    "import random\n",
    "sns.set_style(\"white\")\n",
    "\n",
    "def montage(dir_path, display_label, nrows, ncols, figsize=(15,10)):\n",
    "  \n",
    "\n",
    "  labels = os.listdir(dir_path)\n",
    "\n",
    "  # subset the class you are interested to display\n",
    "  if display_label in labels:\n",
    "\n",
    "    # checks if your montage space is greater than subset size\n",
    "    images_list = os.listdir(dir_path+'/'+ display_label)\n",
    "    if nrows * ncols < len(images_list):\n",
    "      img_idx = random.sample(images_list, nrows * ncols)\n",
    "    else:\n",
    "      print(\n",
    "          f\"Decrease nrows or ncols to create your montage. \\n\"\n",
    "          f\"There are {len(images_list)} in your subset. \"\n",
    "          f\"You requested a montage with {nrows * ncols} spaces\")\n",
    "      return\n",
    "    \n",
    "\n",
    "    # create list of axes indices based on nrows and ncols\n",
    "    list_rows= range(0,nrows)\n",
    "    list_cols= range(0,ncols)\n",
    "    plot_idx = list(itertools.product(list_rows,list_cols))\n",
    "\n",
    "\n",
    "    # create a Figure and display images\n",
    "    fig, axes = plt.subplots(nrows=nrows,ncols=ncols, figsize=figsize)\n",
    "    for x in range(0,nrows*ncols):\n",
    "      img = imread(dir_path + '/' + label_to_display + '/' + img_idx[x])\n",
    "      img_shape = img.shape\n",
    "      axes[plot_idx[x][0], plot_idx[x][1]].imshow(img)\n",
    "      axes[plot_idx[x][0], plot_idx[x][1]].set_title(f\"Width {img_shape[1]}px x Height {img_shape[0]}px\")\n",
    "      axes[plot_idx[x][0], plot_idx[x][1]].set_xticks([])\n",
    "      axes[plot_idx[x][0], plot_idx[x][1]].set_yticks([])\n",
    "    plt.tight_layout()\n",
    "    plt.show()\n",
    "\n",
    "\n",
    "  else:\n",
    "    print(\"The label you selected doesn't exist.\")\n",
    "    print(f\"The existing options are: {labels}\")"
   ]
  },
  {
   "cell_type": "code",
   "execution_count": 12,
   "metadata": {},
   "outputs": [
    {
     "ename": "NameError",
     "evalue": "name 'labels' is not defined",
     "output_type": "error",
     "traceback": [
      "\u001b[0;31m---------------------------------------------------------------------------\u001b[0m",
      "\u001b[0;31mNameError\u001b[0m                                 Traceback (most recent call last)",
      "Cell \u001b[0;32mIn[12], line 1\u001b[0m\n\u001b[0;32m----> 1\u001b[0m \u001b[38;5;28;01mfor\u001b[39;00m label \u001b[38;5;129;01min\u001b[39;00m \u001b[43mlabels\u001b[49m:\n\u001b[1;32m      2\u001b[0m   \u001b[38;5;28mprint\u001b[39m(label)\n\u001b[1;32m      3\u001b[0m   image_montage(dir_path\u001b[38;5;241m=\u001b[39m train_path,\n\u001b[1;32m      4\u001b[0m                 label_to_display\u001b[38;5;241m=\u001b[39m label,\n\u001b[1;32m      5\u001b[0m                 nrows\u001b[38;5;241m=\u001b[39m\u001b[38;5;241m3\u001b[39m, ncols\u001b[38;5;241m=\u001b[39m\u001b[38;5;241m3\u001b[39m,\n\u001b[1;32m      6\u001b[0m                 figsize\u001b[38;5;241m=\u001b[39m(\u001b[38;5;241m10\u001b[39m,\u001b[38;5;241m15\u001b[39m)\n\u001b[1;32m      7\u001b[0m                 )\n",
      "\u001b[0;31mNameError\u001b[0m: name 'labels' is not defined"
     ]
    }
   ],
   "source": [
    "for label in labels:\n",
    "  print(label)\n",
    "  image_montage(dir_path= train_path,\n",
    "                label_to_display= label,\n",
    "                nrows=3, ncols=3,\n",
    "                figsize=(10,15)\n",
    "                )\n",
    "  print(\"\\n\")"
   ]
  },
  {
   "cell_type": "markdown",
   "metadata": {},
   "source": [
    "---"
   ]
  },
  {
   "cell_type": "code",
   "execution_count": null,
   "metadata": {},
   "outputs": [],
   "source": []
  }
 ],
 "metadata": {
  "accelerator": "GPU",
  "colab": {
   "name": "Data Practitioner Jupyter Notebook.ipynb",
   "provenance": [],
   "toc_visible": true
  },
  "interpreter": {
   "hash": "8b8334dab9339717f727a1deaf837b322d7a41c20d15cc86be99a8e69ceec8ce"
  },
  "kernelspec": {
   "display_name": "Python 3.8.12 64-bit ('3.8.12': pyenv)",
   "language": "python",
   "name": "python381264bit3812pyenveb5229cf27804a41a28fab6e79680d09"
  },
  "language_info": {
   "codemirror_mode": {
    "name": "ipython",
    "version": 3
   },
   "file_extension": ".py",
   "mimetype": "text/x-python",
   "name": "python",
   "nbconvert_exporter": "python",
   "pygments_lexer": "ipython3",
   "version": "3.8.12"
  }
 },
 "nbformat": 4,
 "nbformat_minor": 4
}
